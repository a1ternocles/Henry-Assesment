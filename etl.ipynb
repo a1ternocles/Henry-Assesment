{
 "cells": [
  {
   "attachments": {},
   "cell_type": "markdown",
   "metadata": {},
   "source": [
    "## **Extracting Transforming Load (ETL)**\n",
    "\n",
    "En este notebook se planea procesar los datos encontrados en los archivos .json. Con este fin vamos a usar distintas librerias que nos permitan obtener una base de datos limpia. Es de tener en cuenta que se usaran la menor cantidad de celdas de accion con el fin de hacer nuestro codigo lo mas corto y simple posible. De ser necesario, las interacciones tendran su respectivo comentario que nos ayudara a entender el codigo.\n",
    "\n",
    "Nuestro codigo se repartira en distintas secciones teniendo una similitud con el patron Modelo - Vista - Controlador (MVC):\n",
    "\n",
    "* Celda de librerias.\n",
    "* Celda de acciones.\n",
    "* Celda de vistas."
   ]
  },
  {
   "attachments": {},
   "cell_type": "markdown",
   "metadata": {},
   "source": [
    "## 1. Librerias\n",
    "    \n",
    "    Esta Celda nos ayudara a traer todas las librerias necesarias con el fin de completar el ejercicio"
   ]
  },
  {
   "cell_type": "code",
   "execution_count": 5,
   "metadata": {},
   "outputs": [],
   "source": [
    "#Importamos las librerias necesarias para el ejercicio\n",
    "import json, ast, re, gzip, jsonlines\n",
    "import pandas as pd\n",
    "import numpy as np\n",
    "import pyarrow as pa\n",
    "import pyarrow.parquet as pq\n"
   ]
  },
  {
   "attachments": {},
   "cell_type": "markdown",
   "metadata": {},
   "source": [
    "## 2. Acciones\n",
    "    Esta celda nos ayudara a crear todas las funciones necesarias."
   ]
  },
  {
   "cell_type": "code",
   "execution_count": 6,
   "metadata": {},
   "outputs": [],
   "source": [
    "#Funcion que toma un json con dobles comillas y lo convierte en dataframe\n",
    "def json_double_a_df(json_file): \n",
    "    data = []\n",
    "\n",
    "# Abrir el archivo comprimido y leer su contenido línea por línea\n",
    "    with gzip.open(json_file, 'rb') as f:\n",
    "        for line in f:\n",
    "            json_line = line.decode('utf-8')\n",
    "            data.append(json.loads(json_line))\n",
    "\n",
    "    dataframe = pd.DataFrame(data)\n",
    "\n",
    "    return dataframe\n",
    "\n",
    "\n",
    "#Funcion que toma un json con comillas simples y lo convierte en dataframe\n",
    "def json_simple_a_df(json_file): \n",
    "\n",
    "    data = []\n",
    "    \n",
    "    for i in gzip.open(json_file): # creo un buble para recorrer el dataset \n",
    "        data.append(ast.literal_eval(i.decode(\"utf-8\")))\n",
    "\n",
    "    dataframe = pd.DataFrame(data)\n",
    "    \n",
    "    return dataframe\n",
    "\n",
    "\n",
    "#Funcion que crea diccionarios para poder contar los tipos de datos que se encuentran en cada dataframe\n",
    "def diccionario_tipos_datos(dataframe_file):\n",
    "\n",
    "    dicc_col = {}\n",
    "    \n",
    "    for columna in dataframe_file:\n",
    "        conteo_tipos = dataframe_file[columna].apply(type).value_counts().to_dict()\n",
    "        dicc_col[columna] = {str(tipo): conteo for tipo, conteo in conteo_tipos.items()}\n",
    "\n",
    "    return dicc_col\n",
    "\n",
    "#Funcion que convierte los datos a flotantes si son numeros o ceros si son de otro tipo\n",
    "\n",
    "def cambio_a_float(dato):\n",
    "\n",
    "    if pd.isna(dato):\n",
    "        return 0.0\n",
    "    \n",
    "    try:\n",
    "        return float(dato)\n",
    "    except(ValueError, TypeError):\n",
    "        return 0.0\n",
    "\n",
    "#Funcion que convierte los datos a Datetime y devuelve None en caso de ser otro tipo\n",
    "\n",
    "def cambio_a_datetime(dato):\n",
    "\n",
    "    if pd.isna(dato):\n",
    "        return None\n",
    "\n",
    "    try:\n",
    "        return pd.to_datetime(dato)\n",
    "    except ValueError:\n",
    "        return None\n",
    "    \n",
    "#Funcion que abre las sublistas dentro de un dataset y devuelve el dataset completo.\n",
    "\n",
    "def abrir_lista(dataframe_file,nombre_col):\n",
    "    \n",
    "    df_aux = dataframe_file.explode(nombre_col)\n",
    "    df_normal = pd.json_normalize(df_aux[nombre_col].dropna())\n",
    "\n",
    "    df_aux.reset_index(inplace=True)\n",
    "    df_normal.reset_index(inplace=True)\n",
    "    dataframe_file = pd.concat([df_aux,df_normal],axis=1)\n",
    "    dataframe_file.dropna(inplace=True)\n",
    "    \n",
    "    return dataframe_file\n",
    "\n",
    "\n",
    "    \n",
    "    "
   ]
  },
  {
   "attachments": {},
   "cell_type": "markdown",
   "metadata": {},
   "source": [
    "## 3. Vistas"
   ]
  },
  {
   "attachments": {},
   "cell_type": "markdown",
   "metadata": {},
   "source": [
    "## 3.1.  Obtencion de datos\n",
    "    En esta seccion nos enfocamos en transformar los datos del formato original (.json) a un formato Dataframe de pandas con el fin de poder observar, eliminar, transformar y demas procesos que nos permitan una mejor visualizacion y optimizacion de dichos datos.\n",
    "\n",
    "    Los procesos a aplicar son:\n",
    "* **Transformacion de .json a Dataframe**\n",
    "\n",
    "* **Eliminacion de columnas**\n",
    "\n",
    "* **Eliminacion de valores Null/Nan en el Dataset steam_games**\n",
    "\n",
    "* **Reinicio de indices**\n",
    "\n",
    "* **Casting de datos a formatos correspondientes**\n",
    "\n",
    "* **Apertura de datos tipo lista dentro del dataset**\n"
   ]
  },
  {
   "attachments": {},
   "cell_type": "markdown",
   "metadata": {},
   "source": [
    "## 3.1.1 ETL para el Dataset \"Steam Games\""
   ]
  },
  {
   "cell_type": "code",
   "execution_count": 21,
   "metadata": {},
   "outputs": [
    {
     "name": "stdout",
     "output_type": "stream",
     "text": [
      "1. Dataset tranformados de .Json a Dataframe\n",
      "2. steam_games_data: Columnas eliminadas ['app_name']\n",
      "3. steam_games_data: Filas con valores nulos eliminados (genres)\n",
      "4. steam_games_data: indices reiniciados\n",
      "5. steam_games_data: Casting a float steam_games_data['price']\n"
     ]
    },
    {
     "name": "stderr",
     "output_type": "stream",
     "text": [
      "C:\\Users\\andre\\AppData\\Local\\Temp\\ipykernel_2952\\562530017.py:60: UserWarning: Parsing dates in %d.%m.%Y format when dayfirst=False (the default) was specified. Pass `dayfirst=True` or specify a format to silence this warning.\n",
      "  return pd.to_datetime(dato)\n"
     ]
    },
    {
     "name": "stdout",
     "output_type": "stream",
     "text": [
      "6. steam_games_data: Casting a datetime steam_games_data['release_date']\n",
      "7. steam_games_data: Columna creada steam_games_data['release_year']\n",
      "8. steam_games_data: Apertura de listas steam_games_data['genres']\n"
     ]
    }
   ],
   "source": [
    "#Convertimos los datasets de formato json a formato pandas\n",
    "\n",
    "steam_games_data = json_double_a_df(\"data\\\\steam_games.json.gz\")\n",
    "print(\"1. Dataset tranformados de .Json a Dataframe\")\n",
    "\n",
    "#Eliminamos columnas no necesarias para el ejercicio\n",
    "\n",
    "columns_drop = [\"app_name\"]\n",
    "steam_games_data.drop(columns_drop,axis=1,inplace=True) #drop col en steam_games\n",
    "print(f\"2. steam_games_data: Columnas eliminadas {columns_drop}\")\n",
    "\n",
    "\n",
    "#Eliminamos los NAN o nulls de la columna \"genres\"\n",
    "\n",
    "steam_games_data.dropna(subset=[\"genres\"],inplace=True)\n",
    "print(f\"3. steam_games_data: Filas con valores nulos eliminados (genres)\")\n",
    "\n",
    "#Reiniciamos los indices\n",
    "steam_games_data.reset_index(inplace=True)\n",
    "steam_games_data.drop(columns=\"index\",inplace=True)\n",
    "print(f\"4. steam_games_data: indices reiniciados\")\n",
    "\n",
    "#Convertimos los datos de la columna \"steam_games_data[\"price\"]\" a float\n",
    "steam_games_data[\"price\"] = steam_games_data[\"price\"].apply(cambio_a_float)\n",
    "print(f\"5. steam_games_data: Casting a float steam_games_data['price']\")\n",
    "\n",
    "\n",
    "#Convertimos la columna \"steam_games_data[\"release_date\"]\" a Datetime e introducimos la columna anio dentro del dataframe\n",
    "steam_games_data[\"release_date\"] = steam_games_data[\"release_date\"].apply(cambio_a_datetime)\n",
    "print(f\"6. steam_games_data: Casting a datetime steam_games_data['release_date']\")\n",
    "\n",
    "steam_games_data[\"release_year\"] = steam_games_data[\"release_date\"].dt.year\n",
    "print(f\"7. steam_games_data: Columna creada steam_games_data['release_year']\")\n",
    "\n",
    "\n",
    "#Abrimos la lista dentro de los datasets\n",
    "steam_games_data = steam_games_data.explode(\"genres\")\n",
    "print(f\"8. steam_games_data: Apertura de listas steam_games_data['genres']\")\n",
    "\n",
    "\n",
    "\n",
    "\n",
    "\n"
   ]
  },
  {
   "attachments": {},
   "cell_type": "markdown",
   "metadata": {},
   "source": [
    "## 3.1.2. ETL para el Dataset \"User Reviews\""
   ]
  },
  {
   "cell_type": "code",
   "execution_count": 9,
   "metadata": {},
   "outputs": [
    {
     "name": "stdout",
     "output_type": "stream",
     "text": [
      "1. Dataset formateado a Dataframe\n",
      "2. Sublistas extraidas\n",
      "3. Fecha formateada y nueva columna agregada: Posted_year\n",
      "4. user_reviews_data: Columnas eliminadas ['reviews', 'last_edited', 'index', 'posted']\n"
     ]
    }
   ],
   "source": [
    "#Convertimos los datasets de formato json a formato pandas\n",
    "user_reviews_data = json_simple_a_df(\"data\\\\user_reviews.json.gz\")\n",
    "print(\"1. Dataset formateado a Dataframe\")\n",
    "\n",
    "#Abrimos la lista que contiene el dataframe\n",
    "user_reviews_data = abrir_lista(user_reviews_data,\"reviews\")\n",
    "print(\"2. Sublistas extraidas\")\n",
    "\n",
    "#Formateamos la fecha\n",
    "user_reviews_data[\"posted\"] = user_reviews_data[\"posted\"].str.extract(r\"Posted ([\\w\\s\\d,]+)\") #Fecha de tipo \"Posted\", extraemos solo la fecha\n",
    "user_reviews_data[\"posted_date\"] = user_reviews_data[\"posted\"].apply(cambio_a_datetime) #Convertimos las fechas en formato datetime\n",
    "user_reviews_data[\"posted_year\"] = user_reviews_data[\"posted_date\"].dt.year #Creamos y extraemos los anios\n",
    "print(\"3. Fecha formateada y nueva columna agregada: Posted_year\")\n",
    "\n",
    "#Eliminamos columnas no necesarias para el dataset\n",
    "drop_col = [\"reviews\",\"last_edited\",\"index\",\"posted\"]\n",
    "user_reviews_data.drop(columns=drop_col,index=1, inplace=True) #drop col en user_reviews\n",
    "print(f\"4. user_reviews_data: Columnas eliminadas {drop_col}\")\n",
    "\n"
   ]
  },
  {
   "attachments": {},
   "cell_type": "markdown",
   "metadata": {},
   "source": [
    "## 3.1.3. ETL para el Dataset \"User Items\""
   ]
  },
  {
   "cell_type": "code",
   "execution_count": 10,
   "metadata": {},
   "outputs": [
    {
     "name": "stdout",
     "output_type": "stream",
     "text": [
      "1. Dataset formateado a Dataframe\n",
      "2. Sublistas extraidas\n",
      "3. user_item_data: Columnas eliminadas ['items', 'index']\n"
     ]
    }
   ],
   "source": [
    "#Convertimos los datasets de formato json a formato pandas\n",
    "user_items_data = json_simple_a_df(\"data\\\\users_items.json.gz\")\n",
    "print(\"1. Dataset formateado a Dataframe\")\n",
    "\n",
    "#Abrimos la lista que contiene el dataframe\n",
    "user_items_data = abrir_lista(user_items_data,\"items\")\n",
    "print(\"2. Sublistas extraidas\")\n",
    "\n",
    "#Eliminamos columnas no necesarias para el dataset\n",
    "drop_col = [\"items\",\"index\"]\n",
    "user_items_data.drop(columns=drop_col,index=1, inplace=True) #drop col en user_reviews\n",
    "print(f\"3. user_item_data: Columnas eliminadas {drop_col}\")\n",
    "\n"
   ]
  },
  {
   "attachments": {},
   "cell_type": "markdown",
   "metadata": {},
   "source": [
    "## 4. Seccion de pruebas\n",
    "    En esta celda verificamos que los codigos funcionen antes de ser agregados a la seccion de Obtencion de datos"
   ]
  },
  {
   "cell_type": "code",
   "execution_count": 15,
   "metadata": {},
   "outputs": [
    {
     "name": "stderr",
     "output_type": "stream",
     "text": [
      "C:\\Users\\andre\\AppData\\Local\\Temp\\ipykernel_2952\\562530017.py:60: UserWarning: Parsing dates in %d.%m.%Y format when dayfirst=False (the default) was specified. Pass `dayfirst=True` or specify a format to silence this warning.\n",
      "  return pd.to_datetime(dato)\n"
     ]
    },
    {
     "data": {
      "text/html": [
       "<div>\n",
       "<style scoped>\n",
       "    .dataframe tbody tr th:only-of-type {\n",
       "        vertical-align: middle;\n",
       "    }\n",
       "\n",
       "    .dataframe tbody tr th {\n",
       "        vertical-align: top;\n",
       "    }\n",
       "\n",
       "    .dataframe thead th {\n",
       "        text-align: right;\n",
       "    }\n",
       "</style>\n",
       "<table border=\"1\" class=\"dataframe\">\n",
       "  <thead>\n",
       "    <tr style=\"text-align: right;\">\n",
       "      <th></th>\n",
       "      <th>genres</th>\n",
       "      <th>title</th>\n",
       "      <th>release_date</th>\n",
       "      <th>tags</th>\n",
       "      <th>specs</th>\n",
       "      <th>price</th>\n",
       "      <th>early_access</th>\n",
       "      <th>id</th>\n",
       "      <th>developer</th>\n",
       "      <th>release_year</th>\n",
       "    </tr>\n",
       "  </thead>\n",
       "  <tbody>\n",
       "    <tr>\n",
       "      <th>0</th>\n",
       "      <td>Action</td>\n",
       "      <td>Lost Summoner Kitty</td>\n",
       "      <td>2018-01-04</td>\n",
       "      <td>[Strategy, Action, Indie, Casual, Simulation]</td>\n",
       "      <td>[Single-player]</td>\n",
       "      <td>4.99</td>\n",
       "      <td>False</td>\n",
       "      <td>761140</td>\n",
       "      <td>Kotoshiro</td>\n",
       "      <td>2018.0</td>\n",
       "    </tr>\n",
       "    <tr>\n",
       "      <th>0</th>\n",
       "      <td>Casual</td>\n",
       "      <td>Lost Summoner Kitty</td>\n",
       "      <td>2018-01-04</td>\n",
       "      <td>[Strategy, Action, Indie, Casual, Simulation]</td>\n",
       "      <td>[Single-player]</td>\n",
       "      <td>4.99</td>\n",
       "      <td>False</td>\n",
       "      <td>761140</td>\n",
       "      <td>Kotoshiro</td>\n",
       "      <td>2018.0</td>\n",
       "    </tr>\n",
       "    <tr>\n",
       "      <th>0</th>\n",
       "      <td>Indie</td>\n",
       "      <td>Lost Summoner Kitty</td>\n",
       "      <td>2018-01-04</td>\n",
       "      <td>[Strategy, Action, Indie, Casual, Simulation]</td>\n",
       "      <td>[Single-player]</td>\n",
       "      <td>4.99</td>\n",
       "      <td>False</td>\n",
       "      <td>761140</td>\n",
       "      <td>Kotoshiro</td>\n",
       "      <td>2018.0</td>\n",
       "    </tr>\n",
       "    <tr>\n",
       "      <th>0</th>\n",
       "      <td>Simulation</td>\n",
       "      <td>Lost Summoner Kitty</td>\n",
       "      <td>2018-01-04</td>\n",
       "      <td>[Strategy, Action, Indie, Casual, Simulation]</td>\n",
       "      <td>[Single-player]</td>\n",
       "      <td>4.99</td>\n",
       "      <td>False</td>\n",
       "      <td>761140</td>\n",
       "      <td>Kotoshiro</td>\n",
       "      <td>2018.0</td>\n",
       "    </tr>\n",
       "    <tr>\n",
       "      <th>0</th>\n",
       "      <td>Strategy</td>\n",
       "      <td>Lost Summoner Kitty</td>\n",
       "      <td>2018-01-04</td>\n",
       "      <td>[Strategy, Action, Indie, Casual, Simulation]</td>\n",
       "      <td>[Single-player]</td>\n",
       "      <td>4.99</td>\n",
       "      <td>False</td>\n",
       "      <td>761140</td>\n",
       "      <td>Kotoshiro</td>\n",
       "      <td>2018.0</td>\n",
       "    </tr>\n",
       "  </tbody>\n",
       "</table>\n",
       "</div>"
      ],
      "text/plain": [
       "       genres                title release_date  \\\n",
       "0      Action  Lost Summoner Kitty   2018-01-04   \n",
       "0      Casual  Lost Summoner Kitty   2018-01-04   \n",
       "0       Indie  Lost Summoner Kitty   2018-01-04   \n",
       "0  Simulation  Lost Summoner Kitty   2018-01-04   \n",
       "0    Strategy  Lost Summoner Kitty   2018-01-04   \n",
       "\n",
       "                                            tags            specs  price  \\\n",
       "0  [Strategy, Action, Indie, Casual, Simulation]  [Single-player]   4.99   \n",
       "0  [Strategy, Action, Indie, Casual, Simulation]  [Single-player]   4.99   \n",
       "0  [Strategy, Action, Indie, Casual, Simulation]  [Single-player]   4.99   \n",
       "0  [Strategy, Action, Indie, Casual, Simulation]  [Single-player]   4.99   \n",
       "0  [Strategy, Action, Indie, Casual, Simulation]  [Single-player]   4.99   \n",
       "\n",
       "  early_access      id  developer  release_year  \n",
       "0        False  761140  Kotoshiro        2018.0  \n",
       "0        False  761140  Kotoshiro        2018.0  \n",
       "0        False  761140  Kotoshiro        2018.0  \n",
       "0        False  761140  Kotoshiro        2018.0  \n",
       "0        False  761140  Kotoshiro        2018.0  "
      ]
     },
     "execution_count": 15,
     "metadata": {},
     "output_type": "execute_result"
    }
   ],
   "source": [
    "steam_games_data = json_double_a_df(\"data\\\\steam_games.json.gz\")\n",
    "columns_drop = [\"publisher\",\"app_name\",\"url\",\"reviews_url\"]\n",
    "steam_games_data.drop(columns_drop,axis=1,inplace=True) \n",
    "steam_games_data.dropna(subset=[\"genres\"],inplace=True)\n",
    "steam_games_data[\"price\"] = steam_games_data[\"price\"].apply(cambio_a_float)\n",
    "steam_games_data[\"release_date\"] = steam_games_data[\"release_date\"].apply(cambio_a_datetime)\n",
    "steam_games_data[\"release_year\"] = steam_games_data[\"release_date\"].dt.year\n",
    "steam_games_data.reset_index(inplace=True)\n",
    "steam_games_data.drop(columns=\"index\",inplace=True)\n",
    "steam_games_data = steam_games_data.explode(\"genres\")\n",
    "steam_games_data.head()\n"
   ]
  },
  {
   "attachments": {},
   "cell_type": "markdown",
   "metadata": {},
   "source": [
    "## 5. Revision Tipo de Datos\n",
    "    Con la funcion definida anterior como \"diccionario_tipos_datos(dataframe_file)\" revisamos los tipos de datos que tienen cada una de las columnas dentro de nuestras bases de datos."
   ]
  },
  {
   "cell_type": "code",
   "execution_count": 16,
   "metadata": {},
   "outputs": [
    {
     "data": {
      "text/plain": [
       "{'genres': {\"<class 'str'>\": 71554},\n",
       " 'title': {\"<class 'str'>\": 71552, \"<class 'float'>\": 2},\n",
       " 'release_date': {\"<class 'pandas._libs.tslibs.timestamps.Timestamp'>\": 71011,\n",
       "  \"<class 'pandas._libs.tslibs.nattype.NaTType'>\": 543},\n",
       " 'tags': {\"<class 'list'>\": 71508, \"<class 'float'>\": 46},\n",
       " 'specs': {\"<class 'list'>\": 70997, \"<class 'float'>\": 557},\n",
       " 'price': {\"<class 'float'>\": 71554},\n",
       " 'early_access': {\"<class 'bool'>\": 71554},\n",
       " 'id': {\"<class 'str'>\": 71552, \"<class 'float'>\": 2},\n",
       " 'developer': {\"<class 'str'>\": 71204, \"<class 'float'>\": 350},\n",
       " 'release_year': {\"<class 'float'>\": 71554}}"
      ]
     },
     "execution_count": 16,
     "metadata": {},
     "output_type": "execute_result"
    }
   ],
   "source": [
    "diccionario_tipos_datos(steam_games_data)"
   ]
  },
  {
   "cell_type": "code",
   "execution_count": 17,
   "metadata": {},
   "outputs": [
    {
     "data": {
      "text/plain": [
       "{'user_id': {\"<class 'str'>\": 59276},\n",
       " 'user_url': {\"<class 'str'>\": 59276},\n",
       " 'funny': {\"<class 'str'>\": 59276},\n",
       " 'item_id': {\"<class 'str'>\": 59276},\n",
       " 'helpful': {\"<class 'str'>\": 59276},\n",
       " 'recommend': {\"<class 'bool'>\": 59276},\n",
       " 'review': {\"<class 'str'>\": 59276},\n",
       " 'posted_date': {\"<class 'pandas._libs.tslibs.timestamps.Timestamp'>\": 49161,\n",
       "  \"<class 'pandas._libs.tslibs.nattype.NaTType'>\": 10115},\n",
       " 'posted_year': {\"<class 'float'>\": 59276}}"
      ]
     },
     "execution_count": 17,
     "metadata": {},
     "output_type": "execute_result"
    }
   ],
   "source": [
    "diccionario_tipos_datos(user_reviews_data)"
   ]
  },
  {
   "cell_type": "code",
   "execution_count": 18,
   "metadata": {},
   "outputs": [
    {
     "data": {
      "text/plain": [
       "{'user_id': {\"<class 'str'>\": 5136658},\n",
       " 'items_count': {\"<class 'int'>\": 5136658},\n",
       " 'steam_id': {\"<class 'str'>\": 5136658},\n",
       " 'user_url': {\"<class 'str'>\": 5136658},\n",
       " 'item_id': {\"<class 'str'>\": 5136658},\n",
       " 'item_name': {\"<class 'str'>\": 5136658},\n",
       " 'playtime_forever': {\"<class 'float'>\": 5136658},\n",
       " 'playtime_2weeks': {\"<class 'float'>\": 5136658}}"
      ]
     },
     "execution_count": 18,
     "metadata": {},
     "output_type": "execute_result"
    }
   ],
   "source": [
    "diccionario_tipos_datos(user_items_data)"
   ]
  },
  {
   "attachments": {},
   "cell_type": "markdown",
   "metadata": {},
   "source": [
    "## 6. Transformacion de Dataframe a Csv"
   ]
  },
  {
   "cell_type": "code",
   "execution_count": 20,
   "metadata": {},
   "outputs": [
    {
     "name": "stdout",
     "output_type": "stream",
     "text": [
      "1. Dataset Creado: steam_games_data.parquet\n",
      "2. Dataset Creado: user_items_data.parquet\n",
      "3. Dataset Creado: user_reviews_data.parquet\n"
     ]
    }
   ],
   "source": [
    "steam_games_data.to_parquet(\"data\\\\steam_game_data\",index=False)\n",
    "print(f\"1. Dataset Creado: steam_games_data.parquet\")\n",
    "\n",
    "user_items_data.to_parquet(\"data\\\\user_items_data\",index=False)\n",
    "print(f\"2. Dataset Creado: user_items_data.parquet\")\n",
    "\n",
    "user_reviews_data.to_parquet(\"data\\\\user_reviews_data\",index=False)\n",
    "print(f\"3. Dataset Creado: user_reviews_data.parquet\")\n"
   ]
  },
  {
   "cell_type": "code",
   "execution_count": null,
   "metadata": {},
   "outputs": [],
   "source": []
  }
 ],
 "metadata": {
  "kernelspec": {
   "display_name": "Python 3",
   "language": "python",
   "name": "python3"
  },
  "language_info": {
   "codemirror_mode": {
    "name": "ipython",
    "version": 3
   },
   "file_extension": ".py",
   "mimetype": "text/x-python",
   "name": "python",
   "nbconvert_exporter": "python",
   "pygments_lexer": "ipython3",
   "version": "3.11.6"
  },
  "orig_nbformat": 4
 },
 "nbformat": 4,
 "nbformat_minor": 2
}
