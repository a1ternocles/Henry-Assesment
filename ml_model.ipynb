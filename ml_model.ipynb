{
 "cells": [
  {
   "cell_type": "markdown",
   "metadata": {},
   "source": [
    "## **Machine Learning Model**\n",
    "\n",
    "En este notebook se planea crear un modelo de machine learning que nos permita desarrollar \"Recomendacion item_item\". Esto es,  permite sugerir elementos items similares a aquellos usuarios que han interactuado con un juego en especifico.\n",
    "\n",
    "Es de tener en cuenta que se usaran la menor cantidad de celdas de accion con el fin de hacer nuestro codigo lo mas corto y simple posible. De ser necesario, las interacciones tendran su respectivo comentario que nos ayudara a entender el codigo.\n",
    "\n",
    "Nuestro codigo se repartira en distintas secciones teniendo una similitud con el patron Modelo - Vista - Controlador (MVC):\n",
    "\n",
    "* Celda de librerias.\n",
    "* Celda de acciones.\n",
    "* Celda de vistas."
   ]
  },
  {
   "cell_type": "markdown",
   "metadata": {},
   "source": [
    "## 1. Librerias\n",
    "    \n",
    "    Esta Celda nos ayudara a traer todas las librerias necesarias con el fin de completar el ejercicio"
   ]
  },
  {
   "cell_type": "code",
   "execution_count": 19,
   "metadata": {},
   "outputs": [],
   "source": [
    "import pandas as pd\n",
    "import numpy as np\n",
    "\n",
    "import scipy as sp\n",
    "from sklearn.metrics.pairwise import cosine_similarity\n",
    "from sklearn.feature_extraction.text import TfidfVectorizer\n",
    "\n"
   ]
  },
  {
   "cell_type": "markdown",
   "metadata": {},
   "source": [
    "## 2. Acciones\n",
    "    Esta celda nos ayudara a crear todas las funciones necesarias."
   ]
  },
  {
   "cell_type": "markdown",
   "metadata": {},
   "source": [
    "## 3. Vistas"
   ]
  },
  {
   "cell_type": "markdown",
   "metadata": {},
   "source": [
    "## 3.1 Sistema de Recomendacion Item - Item"
   ]
  },
  {
   "cell_type": "code",
   "execution_count": 25,
   "metadata": {},
   "outputs": [],
   "source": [
    "\n",
    "\n",
    "\n",
    "# Creamos la funcion de recomendacion item-item\n",
    "\n",
    "def recomendacion_juego(id_producto):\n",
    "\n",
    "    # Obtencion del Dataset (asumiremos que esto ya está definido)\n",
    "\n",
    "    item_data = pd.read_parquet(\"data\\steam_game_data\")\n",
    "    col_drop = [\"release_date\", \"tags\", \"specs\", \"price\", \"early_access\", \"developer\", \"release_year\"]\n",
    "    item_data.drop(columns= col_drop, inplace=True )\n",
    "\n",
    "    #Reducimos el tamanio de la data a un 20% del total debido a la incapacidad de procesar tanta informacion\n",
    "\n",
    "    item_data = item_data.sample(frac=1/5, random_state=42).reset_index()\n",
    "\n",
    "    # Usamos procesamiento de texto para generar una matriz TF-IDF\n",
    "    tfidf = TfidfVectorizer(stop_words=\"english\")\n",
    "    item_data[\"genres\"] = item_data[\"genres\"].fillna(\"\")\n",
    "    tfidf_matrix = tfidf.fit_transform(item_data[\"genres\"])  # Vector TF-IDF\n",
    "\n",
    "    # Entrenamiento similitud del coseno\n",
    "\n",
    "    cosine_sim = cosine_similarity(tfidf_matrix, tfidf_matrix) \n",
    "\n",
    "    idx = item_data[item_data[\"id\"] == id_producto].index[0]  # Encuentra el indice del juego\n",
    "    sim_scores = list(enumerate(cosine_sim [idx]))  # Lista de puntuacion similitud en relacion al indice\n",
    "    sim_scores = sorted(sim_scores, key=lambda x: x[1], reverse=True)  # Organizo los indices de mayor a menor\n",
    "    sim_scores = sim_scores[1:6]  # Top 5 juegos recomendados (sin tomar el idx 0 ya que es el mismo juego)\n",
    "    game_indices = [i[0] for i in sim_scores]  # Tomo la primera posicion de las duplas formadas por sim_scores\n",
    "\n",
    "    print(f\"Juego Seleccionado:  {item_data[item_data['id'] == id_producto].iloc[0]}\")\n",
    "\n",
    "    return item_data[[\"genres\",\"title\",\"id\"]].iloc[game_indices]\n"
   ]
  },
  {
   "cell_type": "markdown",
   "metadata": {},
   "source": [
    "## 4. Seccion De Pruebas"
   ]
  },
  {
   "cell_type": "code",
   "execution_count": 26,
   "metadata": {},
   "outputs": [
    {
     "name": "stdout",
     "output_type": "stream",
     "text": [
      "Juego Seleccionado:  index                                      3181\n",
      "genres                                    Indie\n",
      "title     Master Reboot Art Book and Soundtrack\n",
      "id                                       271100\n",
      "Name: 0, dtype: object\n"
     ]
    },
    {
     "data": {
      "text/html": [
       "<div>\n",
       "<style scoped>\n",
       "    .dataframe tbody tr th:only-of-type {\n",
       "        vertical-align: middle;\n",
       "    }\n",
       "\n",
       "    .dataframe tbody tr th {\n",
       "        vertical-align: top;\n",
       "    }\n",
       "\n",
       "    .dataframe thead th {\n",
       "        text-align: right;\n",
       "    }\n",
       "</style>\n",
       "<table border=\"1\" class=\"dataframe\">\n",
       "  <thead>\n",
       "    <tr style=\"text-align: right;\">\n",
       "      <th></th>\n",
       "      <th>genres</th>\n",
       "      <th>title</th>\n",
       "      <th>id</th>\n",
       "    </tr>\n",
       "  </thead>\n",
       "  <tbody>\n",
       "    <tr>\n",
       "      <th>2</th>\n",
       "      <td>Indie</td>\n",
       "      <td>Flat Path</td>\n",
       "      <td>512740</td>\n",
       "    </tr>\n",
       "    <tr>\n",
       "      <th>3</th>\n",
       "      <td>Indie</td>\n",
       "      <td>Choice of the Ninja</td>\n",
       "      <td>752850</td>\n",
       "    </tr>\n",
       "    <tr>\n",
       "      <th>11</th>\n",
       "      <td>Indie</td>\n",
       "      <td>Supersonic Tank Cats</td>\n",
       "      <td>701080</td>\n",
       "    </tr>\n",
       "    <tr>\n",
       "      <th>15</th>\n",
       "      <td>Indie</td>\n",
       "      <td>Oblivious Garden ~White Day</td>\n",
       "      <td>345040</td>\n",
       "    </tr>\n",
       "    <tr>\n",
       "      <th>18</th>\n",
       "      <td>Indie</td>\n",
       "      <td>Sentinels of the Multiverse - Digital Foil Her...</td>\n",
       "      <td>532620</td>\n",
       "    </tr>\n",
       "  </tbody>\n",
       "</table>\n",
       "</div>"
      ],
      "text/plain": [
       "   genres                                              title      id\n",
       "2   Indie                                          Flat Path  512740\n",
       "3   Indie                                Choice of the Ninja  752850\n",
       "11  Indie                               Supersonic Tank Cats  701080\n",
       "15  Indie                        Oblivious Garden ~White Day  345040\n",
       "18  Indie  Sentinels of the Multiverse - Digital Foil Her...  532620"
      ]
     },
     "execution_count": 26,
     "metadata": {},
     "output_type": "execute_result"
    }
   ],
   "source": [
    "recomendacion_juego(\"271100\")"
   ]
  }
 ],
 "metadata": {
  "kernelspec": {
   "display_name": "fastapi-env",
   "language": "python",
   "name": "python3"
  },
  "language_info": {
   "codemirror_mode": {
    "name": "ipython",
    "version": 3
   },
   "file_extension": ".py",
   "mimetype": "text/x-python",
   "name": "python",
   "nbconvert_exporter": "python",
   "pygments_lexer": "ipython3",
   "version": "3.11.6"
  }
 },
 "nbformat": 4,
 "nbformat_minor": 2
}
