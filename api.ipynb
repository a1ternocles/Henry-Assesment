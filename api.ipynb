{
 "cells": [
  {
   "cell_type": "markdown",
   "metadata": {},
   "source": [
    "## **Application Programming Interface (API)**\n",
    "\n",
    "En este notebook se planea trabajar con los datos procesados durante el ETL. Tengamos en cuenta que se va a separar en dos secciones:\n",
    "\n",
    "1. Creacion de funciones segun el Henry Assesment:\n",
    "\n",
    "    * def PlayTimeGenre( genero : str ), return **Ejemplo de retorno: {\"Año de lanzamiento con más horas jugadas para Género X\" : 2013}**.\n",
    "\n",
    "    * def UserForGenre( genero : str ), return: **Ejemplo de retorno: {\"Usuario con más horas jugadas para genero\" : us213ndjss09sdf, \"Horas jugadas\":[{Año: 2013, Horas: 203}, {Año: 2012, Horas: 100}, {Año: 2011, Horas: 23}]}**.\n",
    "    \n",
    "    * def UsersRecommend( año : int ), return **Ejemplo de retorno: [{\"Puesto 1\" : genero_1}, {\"Puesto 2\" : genero_2},{\"Puesto 3\" : genero_3}]**\n",
    "\n",
    "    * def UsersNotRecommend( año : int ), return **Ejemplo de retorno: [{\"Puesto 1\" : genero_1}, {\"Puesto 2\" : genero_2},{\"Puesto 3\" : genero_3}]**\n",
    "\n",
    "    * def sentiment_analysis( año : int ), return **Ejemplo de retorno: {Negative = 182, Neutral = 120, Positive = 278}**\n",
    "\n",
    "2. Creacion de una API que nos permita interactuar con esta informacion de manera util a traves de una pagina web. Es necesario resaltar que los criterios de consumo de la API estaran basados segun API REST:\n",
    "\n",
    "    * **Se Usara FastAPI**\n",
    "\n",
    "Nuestro codigo se repartira en distintas secciones teniendo una similitud con el patron Modelo - Vista - Controlador (MVC):\n",
    "\n",
    "* Celda de librerias.\n",
    "* Celda de acciones.\n",
    "* Celda de vistas."
   ]
  },
  {
   "cell_type": "markdown",
   "metadata": {},
   "source": [
    "## 1. Librerias"
   ]
  },
  {
   "cell_type": "code",
   "execution_count": 1,
   "metadata": {},
   "outputs": [],
   "source": [
    "#Carga de librerias\n",
    "\n",
    "import pandas as pd\n",
    "import numpy as np\n",
    "import matplotlib.pyplot as plt\n",
    "import seaborn as sns\n",
    "sns.set()\n",
    "\n",
    "#Carga de Datasets\n",
    "\n",
    "steam_games_data = pd.read_parquet(\"data\\steam_game_data\")\n",
    "user_items_data = pd.read_parquet(\"data\\\\user_items_data\")\n",
    "user_reviews_data = pd.read_parquet(\"data\\\\user_reviews_data\")\n"
   ]
  },
  {
   "cell_type": "markdown",
   "metadata": {},
   "source": [
    "## 2. Acciones\n",
    "\n",
    "    Esta celda nos ayudara a crear todas las funciones que se vayan requiriendo durante el ejercicio."
   ]
  },
  {
   "cell_type": "markdown",
   "metadata": {},
   "source": [
    "## 2.1. Sub-Funciones"
   ]
  },
  {
   "cell_type": "code",
   "execution_count": 148,
   "metadata": {},
   "outputs": [],
   "source": [
    "# Funcion que saca las columnas necesarias de un dataframe\n",
    "\n",
    "def col_individuales(dataframe,lista_col):\n",
    "    return pd.DataFrame(dataframe[lista_col])\n",
    "\n",
    "def sentimientos(data):\n",
    "    if data == 0:\n",
    "        return \"Negative\"\n",
    "    elif data == 1:\n",
    "        return \"Neutral\"\n",
    "    else:\n",
    "        return \"Positive\"\n",
    "\n",
    "    "
   ]
  },
  {
   "cell_type": "markdown",
   "metadata": {},
   "source": [
    "## 2.2. Funciones \"Main\""
   ]
  },
  {
   "cell_type": "code",
   "execution_count": 210,
   "metadata": {},
   "outputs": [],
   "source": [
    "#* def PlayTimeGenre( genero : str )\n",
    "# return **Ejemplo de retorno: {\"Año de lanzamiento con más horas jugadas para Género X\" : 2013}**\n",
    "\n",
    "#Variables Globales\n",
    "genero_dicc= {}\n",
    "def PlayTimeGenre(genero: str):\n",
    "\n",
    "    try:\n",
    "        if type(genero) == str:\n",
    "\n",
    "            genero = genero.lower().title()\n",
    "            playtime_data = pd.read_parquet(\"data\\\\playtime_data\")\n",
    "            lista_genero = playtime_data[\"genres\"].unique()\n",
    "\n",
    "            if genero in lista_genero:\n",
    "\n",
    "                global genero_dicc\n",
    "                data_genero = playtime_data[playtime_data[\"genres\"] == genero]\n",
    "                data_horas = data_genero.groupby(\"release_year\")[\"playtime_forever\"].sum()\n",
    "                anio_max = data_horas.idxmax()\n",
    "\n",
    "                anio_lanzamiento = f\"Anio Lanzamiento con mas horas jugadas para {genero}\"\n",
    "                genero_dicc[anio_lanzamiento] = int(anio_max)\n",
    "            \n",
    "                return genero_dicc\n",
    "            else:\n",
    "                return print(f\"La palabra {genero} no se encuentra en la base de datos\")\n",
    "        else:\n",
    "            return print(\"Ingrese un valor valido: String\")\n",
    "    except NameError:\n",
    "        return print(\"Ingrese un valor valido: String\")\n",
    "\n",
    "#def UserForGenre( genero : str ) \n",
    "#return: **Ejemplo de retorno: {\"Usuario con más horas jugadas para genero\" : us213ndjss09sdf, \n",
    "#\"Horas jugadas\":[{Año: 2013, Horas: 203}, {Año: 2012, Horas: 100}, {Año: 2011, Horas: 23}]}**.\n",
    "\n",
    "def UserForGenre(genero : str):\n",
    "    try:\n",
    "        if type(genero) == str:\n",
    "\n",
    "            genero = genero.lower().title()\n",
    "            usergenre_data = pd.read_parquet(\"data\\\\usergenre_data\")\n",
    "            lista_genero = usergenre_data[\"genres\"].unique()\n",
    "\n",
    "            if genero in lista_genero:\n",
    "\n",
    "                data_genero = usergenre_data[usergenre_data[\"genres\"] == genero]\n",
    "                usuario_max = data_genero.groupby(\"user_id\")[\"playtime_forever\"].sum().idxmax()\n",
    "                max_by_year = data_genero[data_genero[\"user_id\"] == usuario_max].groupby(\"release_year\")[\"playtime_forever\"].sum()\n",
    "                df_max_by_year = pd.DataFrame(max_by_year).reset_index()\n",
    "\n",
    "                lista_aux = []\n",
    "\n",
    "                for i in range(len(max_by_year)):\n",
    "\n",
    "                    dicc_aux = {}\n",
    "                    year = df_max_by_year[\"release_year\"][i]\n",
    "                    hour = df_max_by_year[\"playtime_forever\"][i]\n",
    "                    dicc_aux[year]=  hour\n",
    "                    lista_aux.append(dicc_aux)\n",
    "            \n",
    "                return {\"Usuario con mas horas jugadas para genero\":usuario_max,\n",
    "                    \"Horas jugadas\": lista_aux}\n",
    "            else:\n",
    "                return print(f\"La palabra {genero} no se encuentra en la base de datos\")\n",
    "        else:\n",
    "            return print(\"Ingrese un valor valido: String\")\n",
    "    except NameError:\n",
    "        return print(\"Ingrese un valor valido: String\")\n",
    "    \n",
    "\n",
    "#* def UsersRecommend( año : int ), \n",
    "# return **Ejemplo de retorno: [{\"Puesto 1\" : genero_1}, {\"Puesto 2\" : genero_2},{\"Puesto 3\" : genero_3}]**\n",
    "\n",
    "def UsersRecommend(anio : int):\n",
    "    try:\n",
    "        if type(anio) == int:\n",
    "\n",
    "            usersrecommend_data = pd.read_parquet(\"data\\\\usersrecommend_data\")\n",
    "            lista_anio = usersrecommend_data[\"release_year\"].unique()\n",
    "\n",
    "            if anio in lista_anio:\n",
    "                \n",
    "                data_bool = usersrecommend_data[usersrecommend_data[\"recommend\"] == True]\n",
    "                data_anio = data_bool[data_bool[\"release_year\"] == anio]\n",
    "                recommend_sum = data_anio.groupby(\"genres\")[\"recommend\"].sum()\n",
    "                df_recommend_sum = pd.DataFrame(recommend_sum).sort_values(\"recommend\",ascending=False).reset_index()\n",
    "                \n",
    "                list_aux = []\n",
    "\n",
    "                for i in range(3):\n",
    "                    dicc_aux = {}\n",
    "                    dicc_aux[f\"Puesto {i+1}\"] = df_recommend_sum[\"genres\"][i]\n",
    "                    list_aux.append(dicc_aux)\n",
    "\n",
    "                return list_aux\n",
    "\n",
    "            else:\n",
    "                return print(f\"El anio {anio} no se encuentra en la base de datos\")\n",
    "        else:\n",
    "            return print(\"Ingrese un valor valido: int\")\n",
    "    except NameError:\n",
    "        return print(\"Ingrese un valor valido: int\")\n",
    "    \n",
    "#* def UsersNotRecommend( año : int )\n",
    "# return **Ejemplo de retorno: [{\"Puesto 1\" : genero_1}, {\"Puesto 2\" : genero_2},{\"Puesto 3\" : genero_3}]**\n",
    "\n",
    "def UsersNotRecommend(anio : int):\n",
    "    try:\n",
    "        if type(anio) == int:\n",
    "\n",
    "            usersrecommend_data = pd.read_parquet(\"data\\\\usersrecommend_data\")\n",
    "            lista_anio = usersrecommend_data[\"release_year\"].unique()\n",
    "\n",
    "            if anio in lista_anio:\n",
    "                \n",
    "                data_bool = usersrecommend_data[usersrecommend_data[\"recommend\"] == False]\n",
    "                data_anio = data_bool[data_bool[\"release_year\"] == anio]\n",
    "                recommend_sum = data_anio.groupby(\"genres\")[\"recommend\"].sum()\n",
    "                df_recommend_sum = pd.DataFrame(recommend_sum).sort_values(\"recommend\",ascending=False).reset_index()\n",
    "                \n",
    "                list_aux = []\n",
    "\n",
    "                for i in range(3):\n",
    "                    dicc_aux = {}\n",
    "                    dicc_aux[f\"Puesto {i+1}\"] = df_recommend_sum[\"genres\"][i]\n",
    "                    list_aux.append(dicc_aux)\n",
    "\n",
    "                return list_aux\n",
    "\n",
    "            else:\n",
    "                return print(f\"El anio {anio} no se encuentra en la base de datos\")\n",
    "        else:\n",
    "            return print(\"Ingrese un valor valido: int\")\n",
    "    except NameError:\n",
    "        return print(\"Ingrese un valor valido: int\")\n",
    "    \n",
    "#* def sentiment_analysis( año : int )\n",
    "#  return **Ejemplo de retorno: {Negative = 182, Neutral = 120, Positive = 278}**\n",
    "\n",
    "def sentiment_analysis(anio : int):\n",
    "    try:\n",
    "        if type(anio) == int:\n",
    "\n",
    "            sentiment_data = pd.read_parquet(\"data\\\\sentiment_data\")\n",
    "            lista_anio = sentiment_data[\"release_year\"].unique()\n",
    "\n",
    "            if anio in lista_anio:\n",
    "                \n",
    "                sentiment_data = pd.read_parquet(\"data\\\\sentiment_data\").dropna()\n",
    "                lista_anio = sentiment_data[\"release_year\"].unique()\n",
    "                data_anio = sentiment_data[sentiment_data[\"release_year\"] == anio].drop(columns=\"item_id\")\n",
    "                df_data_anio = pd.DataFrame(data_anio.value_counts()).sort_index()\n",
    "\n",
    "                list_aux = []\n",
    "                list_sentiment=[\"Negative\",\"Neutral\",\"Positve\"]\n",
    "\n",
    "\n",
    "                for i, sentimiento in enumerate(list_sentiment):\n",
    "                    dicc_aux = {}\n",
    "                    dicc_aux[sentimiento] = int(df_data_anio.iloc[i])\n",
    "                    list_aux.append(dicc_aux)\n",
    "\n",
    "                list_aux\n",
    "\n",
    "                return list_aux\n",
    "\n",
    "            else:\n",
    "                return print(f\"El anio {anio} no se encuentra en la base de datos\")\n",
    "        else:\n",
    "            return print(\"Ingrese un valor valido: int\")\n",
    "    except NameError:\n",
    "        return print(\"Ingrese un valor valido: int\")\n"
   ]
  },
  {
   "cell_type": "markdown",
   "metadata": {},
   "source": [
    "## 3. Vistas"
   ]
  },
  {
   "cell_type": "markdown",
   "metadata": {},
   "source": [
    "## 3.1 Data PlayTimeGenre"
   ]
  },
  {
   "cell_type": "code",
   "execution_count": 137,
   "metadata": {},
   "outputs": [
    {
     "name": "stdout",
     "output_type": "stream",
     "text": [
      "El Dataset playtime_data.parquet ha sido creado\n"
     ]
    }
   ],
   "source": [
    "#Vamos a crear subdataframes para luego concatenarlos. Esto con el fin de ahorrar memoria y optimizar la informacion\n",
    "\n",
    "#Data Steam Games\n",
    "steam_sub = col_individuales(steam_games_data,[\"id\",\"genres\",\"release_year\"])\n",
    "steam_sub.rename(columns={'id':'item_id'},inplace=True) #Cambiamos el nombre en la columna id: item_id\n",
    "\n",
    "#Data User Items\n",
    "item_sub = col_individuales(user_items_data,[\"item_id\",\"playtime_forever\"])\n",
    "\n",
    "#Unimos los dataframes\n",
    "\n",
    "playtime_data = pd.merge(steam_sub,item_sub, on= \"item_id\", how=\"inner\")\n",
    "\n",
    "#Guardamos el dataset\n",
    "playtime_data.to_parquet(\"data\\\\playtime_data\", index=False)\n",
    "print(f\"El Dataset playtime_data.parquet ha sido creado\")"
   ]
  },
  {
   "cell_type": "markdown",
   "metadata": {},
   "source": [
    "## 3.2 Data UserForGenre"
   ]
  },
  {
   "cell_type": "code",
   "execution_count": 8,
   "metadata": {},
   "outputs": [
    {
     "name": "stdout",
     "output_type": "stream",
     "text": [
      "El Dataset usergenre_data.parquet ha sido creado\n"
     ]
    }
   ],
   "source": [
    "#Vamos a crear subdataframes para luego concatenarlos. Esto con el fin de ahorrar memoria y optimizar la informacion\n",
    "\n",
    "#Data Steam Games\n",
    "steam_sub = col_individuales(steam_games_data,[\"id\",\"genres\",\"release_year\"])\n",
    "steam_sub.rename(columns={'id':'item_id'},inplace=True) #Cambiamos el nombre en la columna id: item_id\n",
    "\n",
    "#Data User Items\n",
    "item_sub = col_individuales(user_items_data,[\"user_id\",\"item_id\",\"playtime_forever\"])\n",
    "\n",
    "#Unimos los dataframes\n",
    "\n",
    "usergenre_data = pd.merge(steam_sub,item_sub, on= \"item_id\", how=\"inner\")\n",
    "\n",
    "#Guardamos el dataset\n",
    "usergenre_data.to_parquet(\"data\\\\usergenre_data\", index=False)\n",
    "print(f\"El Dataset usergenre_data.parquet ha sido creado\")\n"
   ]
  },
  {
   "cell_type": "markdown",
   "metadata": {},
   "source": [
    "## 3.3 Data UsersRecommend"
   ]
  },
  {
   "cell_type": "code",
   "execution_count": 37,
   "metadata": {},
   "outputs": [
    {
     "name": "stdout",
     "output_type": "stream",
     "text": [
      "El Dataset usersrecommend_data.parquet ha sido creado\n"
     ]
    }
   ],
   "source": [
    "#Vamos a crear subdataframes para luego concatenarlos. Esto con el fin de ahorrar memoria y optimizar la informacion\n",
    "\n",
    "#Data Steam Games\n",
    "steam_sub = col_individuales(steam_games_data,[\"id\",\"genres\",\"release_year\"])\n",
    "steam_sub.rename(columns={'id':'item_id'},inplace=True) #Cambiamos el nombre en la columna id: item_id\n",
    "\n",
    "#Data User Reviews\n",
    "reviews_sub = col_individuales(user_reviews_data,[\"item_id\",\"recommend\"])\n",
    "\n",
    "#Unimos los dataframes\n",
    "\n",
    "usersrecommend_data = pd.merge(steam_sub,reviews_sub, on= \"item_id\", how=\"inner\")\n",
    "\n",
    "#Guardamos el dataset\n",
    "usersrecommend_data.to_parquet(\"data\\\\usersrecommend_data\", index=False)\n",
    "print(f\"El Dataset usersrecommend_data.parquet ha sido creado\")"
   ]
  },
  {
   "cell_type": "markdown",
   "metadata": {},
   "source": [
    "## 3.4 Data SentimentAnalysis"
   ]
  },
  {
   "cell_type": "code",
   "execution_count": 154,
   "metadata": {},
   "outputs": [
    {
     "name": "stdout",
     "output_type": "stream",
     "text": [
      "El Dataset sentiment_data.parquet ha sido creado\n"
     ]
    }
   ],
   "source": [
    "#Vamos a crear subdataframes para luego concatenarlos. Esto con el fin de ahorrar memoria y optimizar la informacion\n",
    "\n",
    "#Data Steam Games\n",
    "steam_sub = col_individuales(steam_games_data,[\"id\",\"release_year\"])\n",
    "steam_sub.rename(columns={'id':'item_id'},inplace=True) #Cambiamos el nombre en la columna id: item_id\n",
    "\n",
    "#Data User Reviews\n",
    "reviews_sub = col_individuales(user_reviews_data,[\"item_id\",\"sentiment\"])\n",
    "\n",
    "#Unimos los dataframes y limpiamos\n",
    "\n",
    "sentiment_data = pd.merge(steam_sub,reviews_sub, on= \"item_id\", how=\"inner\")\n",
    "sentiment_data[\"feeling\"] = sentiment_data[\"sentiment\"].apply(sentimientos)\n",
    "sentiment_data.drop(columns=\"sentiment\", inplace=True)\n",
    "\n",
    "#Guardamos el dataset\n",
    "sentiment_data.to_parquet(\"data\\\\sentiment_data\", index=False)\n",
    "print(f\"El Dataset sentiment_data.parquet ha sido creado\")"
   ]
  },
  {
   "cell_type": "markdown",
   "metadata": {},
   "source": [
    "## 4. Seccion de pruebas"
   ]
  },
  {
   "cell_type": "code",
   "execution_count": 212,
   "metadata": {},
   "outputs": [
    {
     "name": "stdout",
     "output_type": "stream",
     "text": [
      " PlayTimeGenre: Succesfull \n",
      "      \n",
      "      {'Anio Lanzamiento con mas horas jugadas para Action': 2012, 'Anio Lanzamiento con mas horas jugadas para Adventure': 2011} \n",
      " UserForGenre : Succesfull\n",
      "       \n",
      "       {'Usuario con mas horas jugadas para genero': 'thugnificent', 'Horas jugadas': [{1987.0: 0.0}, {1988.0: 231.0}, {1989.0: 0.0}, {1990.0: 0.0}, {1991.0: 0.0}, {1992.0: 0.0}, {1993.0: 9578.0}, {1994.0: 544.0}, {1995.0: 0.0}, {1996.0: 2570.0}, {1997.0: 2512.0}, {1998.0: 0.0}, {1999.0: 0.0}, {2000.0: 48652.0}, {2001.0: 2430.0}, {2002.0: 128.0}, {2003.0: 880.0}, {2004.0: 0.0}, {2005.0: 2339.0}, {2006.0: 1391.0}, {2007.0: 725.0}, {2008.0: 2406.0}, {2009.0: 9226.0}, {2010.0: 3196.0}, {2011.0: 36955.0}, {2012.0: 89001.0}, {2013.0: 212088.0}, {2014.0: 186555.0}, {2015.0: 334257.0}, {2016.0: 109924.0}, {2017.0: 59573.0}, {2018.0: 0.0}]}\n",
      " UsersRecommend: Succesfull\n",
      "      \n",
      "      [{'Puesto 1': 'Adventure'}, {'Puesto 2': 'Action'}, {'Puesto 3': 'RPG'}]\n",
      " UsersNotRecommend: Succesfull\n",
      "      \n",
      "      [{'Puesto 1': 'Action'}, {'Puesto 2': 'Adventure'}, {'Puesto 3': 'Animation &amp; Modeling'}]\n",
      " sentiment_analysis: Succesfull\n",
      "       \n",
      "       [{'Negative': 7}, {'Neutral': 27}, {'Positve': 26}]\n"
     ]
    },
    {
     "name": "stderr",
     "output_type": "stream",
     "text": [
      "C:\\Users\\andre\\AppData\\Local\\Temp\\ipykernel_15864\\1237915014.py:161: FutureWarning: Calling int on a single element Series is deprecated and will raise a TypeError in the future. Use int(ser.iloc[0]) instead\n",
      "  dicc_aux[sentimiento] = int(df_data_anio.iloc[i])\n"
     ]
    },
    {
     "data": {
      "text/plain": [
       "[None]"
      ]
     },
     "execution_count": 212,
     "metadata": {},
     "output_type": "execute_result"
    }
   ],
   "source": [
    "PlayTimeGenre(\"Action\")\n",
    "PlayTimeGenre(\"Adventure\")\n",
    "\n",
    "print(f\"\"\" PlayTimeGenre: Succesfull \n",
    "      \n",
    "      {genero_dicc} \"\"\")\n",
    "\n",
    "#--------------------------------\n",
    "\n",
    "print (f\"\"\" UserForGenre : Succesfull\n",
    "       \n",
    "       {UserForGenre(\"Adventure\")}\"\"\")\n",
    "\n",
    "print(f\"\"\" UsersRecommend: Succesfull\n",
    "      \n",
    "      {UsersRecommend(1997)}\"\"\")\n",
    "\n",
    "print(f\"\"\" UsersNotRecommend: Succesfull\n",
    "      \n",
    "      {UsersNotRecommend(2012)}\"\"\")\n",
    "\n",
    "[print(f\"\"\" sentiment_analysis: Succesfull\n",
    "       \n",
    "       {sentiment_analysis(1997)}\"\"\")]"
   ]
  },
  {
   "cell_type": "markdown",
   "metadata": {},
   "source": []
  }
 ],
 "metadata": {
  "kernelspec": {
   "display_name": "Python 3",
   "language": "python",
   "name": "python3"
  },
  "language_info": {
   "codemirror_mode": {
    "name": "ipython",
    "version": 3
   },
   "file_extension": ".py",
   "mimetype": "text/x-python",
   "name": "python",
   "nbconvert_exporter": "python",
   "pygments_lexer": "ipython3",
   "version": "3.11.6"
  }
 },
 "nbformat": 4,
 "nbformat_minor": 2
}
